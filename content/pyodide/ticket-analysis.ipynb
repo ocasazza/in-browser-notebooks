{
 "cells": [
  {
   "cell_type": "markdown",
   "metadata": {},
   "source": [
    "# IT Ticket Data Analysis\n",
    "\n",
    "Interactive analysis and visualization of IT support ticket data using Python in JupyterLite.\n",
    "\n",
    "This notebook demonstrates:\n",
    "- Data loading and preprocessing\n",
    "- Interactive visualizations with Plotly\n",
    "- Statistical analysis with Altair\n",
    "- Dashboard-style widgets for exploration"
   ]
  },
  {
   "cell_type": "markdown",
   "metadata": {},
   "source": [
    "## Install Required Packages"
   ]
  },
  {
   "cell_type": "code",
   "execution_count": null,
   "metadata": {},
   "outputs": [],
   "source": [
    "%pip install -q plotly altair ipywidgets pandas numpy"
   ]
  },
  {
   "cell_type": "markdown",
   "metadata": {},
   "source": [
    "## Import Libraries"
   ]
  },
  {
   "cell_type": "code",
   "execution_count": null,
   "metadata": {},
   "outputs": [],
   "source": [
    "import pandas as pd\n",
    "import numpy as np\n",
    "import plotly.graph_objects as go\n",
    "import plotly.express as px\n",
    "import plotly.figure_factory as ff\n",
    "from plotly.subplots import make_subplots\n",
    "import altair as alt\n",
    "from ipywidgets import interact, Dropdown, IntSlider\n",
    "from datetime import datetime, timedelta\n",
    "import warnings\n",
    "warnings.filterwarnings('ignore')"
   ]
  },
  {
   "cell_type": "markdown",
   "metadata": {},
   "source": [
    "## Load and Explore the Data"
   ]
  },
  {
   "cell_type": "code",
   "execution_count": null,
   "metadata": {},
   "outputs": [],
   "source": [
    "# Load the ticket data\n",
    "df = pd.read_csv('../data/ticket-data.csv')\n",
    "\n",
    "print(f\"Dataset shape: {df.shape}\")\n",
    "print(f\"\\nColumns: {len(df.columns)}\")\n",
    "df.head()"
   ]
  },
  {
   "cell_type": "code",
   "execution_count": null,
   "metadata": {},
   "outputs": [],
   "source": [
    "# Data preprocessing\n",
    "# Convert date columns to datetime\n",
    "date_columns = ['last_updated_date', 'first_response_date', 'assigned_date', \n",
    "                'created_date', 'resolved_date', 'closed_date']\n",
    "\n",
    "for col in date_columns:\n",
    "    if col in df.columns:\n",
    "        df[col] = pd.to_datetime(df[col], errors='coerce')\n",
    "\n",
    "# Basic statistics\n",
    "print(\"Basic Dataset Information:\")\n",
    "print(f\"Total tickets: {len(df)}\")\n",
    "print(f\"Date range: {df['created_date'].min()} to {df['created_date'].max()}\")\n",
    "print(f\"\\nStatus distribution:\")\n",
    "print(df['status'].value_counts())\n",
    "print(f\"\\nPriority distribution:\")\n",
    "print(df['priority'].value_counts())"
   ]
  },
  {
   "cell_type": "markdown",
   "metadata": {},
   "source": [
    "## Interactive Dashboard: Ticket Status Overview"
   ]
  },
  {
   "cell_type": "code",
   "execution_count": null,
   "metadata": {},
   "outputs": [],
   "source": [
    "# Create a comprehensive dashboard\n",
    "fig = make_subplots(\n",
    "    rows=2, cols=2,\n",
    "    subplot_titles=('Ticket Status Distribution', 'Priority Levels', \n",
    "                   'Tickets by Location', 'Category Breakdown'),\n",
    "    specs=[[{\"type\": \"pie\"}, {\"type\": \"bar\"}],\n",
    "           [{\"type\": \"bar\"}, {\"type\": \"pie\"}]]\n",
    ")\n",
    "\n",
    "# Status distribution (pie chart)\n",
    "status_counts = df['status'].value_counts()\n",
    "fig.add_trace(\n",
    "    go.Pie(labels=status_counts.index, values=status_counts.values, name=\"Status\"),\n",
    "    row=1, col=1\n",
    ")\n",
    "\n",
    "# Priority distribution (bar chart)\n",
    "priority_counts = df['priority'].value_counts()\n",
    "colors = {'Critical': 'red', 'High': 'orange', 'Medium': 'yellow', 'Low': 'green'}\n",
    "priority_colors = [colors.get(p, 'blue') for p in priority_counts.index]\n",
    "fig.add_trace(\n",
    "    go.Bar(x=priority_counts.index, y=priority_counts.values, \n",
    "           marker_color=priority_colors, name=\"Priority\"),\n",
    "    row=1, col=2\n",
    ")\n",
    "\n",
    "# Location distribution (bar chart)\n",
    "location_counts = df['location'].value_counts().head(8)\n",
    "fig.add_trace(\n",
    "    go.Bar(x=location_counts.values, y=location_counts.index, \n",
    "           orientation='h', name=\"Location\"),\n",
    "    row=2, col=1\n",
    ")\n",
    "\n",
    "# Category distribution (pie chart)\n",
    "category_counts = df['category'].value_counts()\n",
    "fig.add_trace(\n",
    "    go.Pie(labels=category_counts.index, values=category_counts.values, name=\"Category\"),\n",
    "    row=2, col=2\n",
    ")\n",
    "\n",
    "fig.update_layout(\n",
    "    title_text=\"IT Ticket Dashboard Overview\",\n",
    "    height=800,\n",
    "    showlegend=False\n",
    ")\n",
    "\n",
    "fig.show()"
   ]
  },
  {
   "cell_type": "markdown",
   "metadata": {},
   "source": [
    "## Response Time Analysis"
   ]
  },
  {
   "cell_type": "code",
   "execution_count": null,
   "metadata": {},
   "outputs": [],
   "source": [
    "# Calculate response times\n",
    "df['response_time_hours'] = (df['first_response_date'] - df['created_date']).dt.total_seconds() / 3600\n",
    "df['resolution_time_hours'] = (df['resolved_date'] - df['created_date']).dt.total_seconds() / 3600\n",
    "\n",
    "# Response time by priority\n",
    "fig = px.box(df.dropna(subset=['response_time_hours']), \n",
    "             x='priority', y='response_time_hours',\n",
    "             color='priority',\n",
    "             title='Response Time Distribution by Priority',\n",
    "             labels={'response_time_hours': 'Response Time (Hours)'})\n",
    "\n",
    "fig.update_layout(height=500)\n",
    "fig.show()"
   ]
  },
  {
   "cell_type": "code",
   "execution_count": null,
   "metadata": {},
   "outputs": [],
   "source": [
    "# Resolution time analysis\n",
    "resolution_data = df.dropna(subset=['resolution_time_hours'])\n",
    "\n",
    "fig = px.scatter(resolution_data, \n",
    "                x='response_time_hours', y='resolution_time_hours',\n",
    "                color='priority', size='no._of_customers_impacted',\n",
    "                hover_data=['subject', 'status', 'agent_name'],\n",
    "                title='Response Time vs Resolution Time',\n",
    "                labels={'response_time_hours': 'Response Time (Hours)',\n",
    "                       'resolution_time_hours': 'Resolution Time (Hours)'})\n",
    "\n",
    "fig.update_layout(height=600)\n",
    "fig.show()"
   ]
  },
  {
   "cell_type": "markdown",
   "metadata": {},
   "source": [
    "## Interactive Ticket Timeline"
   ]
  },
  {
   "cell_type": "code",
   "execution_count": null,
   "metadata": {},
   "outputs": [],
   "source": [
    "# Create timeline visualization\n",
    "timeline_data = []\n",
    "\n",
    "for _, ticket in df.iterrows():\n",
    "    # Created event\n",
    "    timeline_data.append({\n",
    "        'Ticket': f\"#{ticket['id']}\",\n",
    "        'Start': ticket['created_date'],\n",
    "        'Finish': ticket['first_response_date'] if pd.notna(ticket['first_response_date']) else ticket['created_date'] + timedelta(hours=1),\n",
    "        'Resource': 'Response Time',\n",
    "        'Priority': ticket['priority']\n",
    "    })\n",
    "    \n",
    "    # Resolution event (if resolved)\n",
    "    if pd.notna(ticket['resolved_date']):\n",
    "        timeline_data.append({\n",
    "            'Ticket': f\"#{ticket['id']}\",\n",
    "            'Start': ticket['first_response_date'] if pd.notna(ticket['first_response_date']) else ticket['created_date'],\n",
    "            'Finish': ticket['resolved_date'],\n",
    "            'Resource': 'Resolution Time',\n",
    "            'Priority': ticket['priority']\n",
    "        })\n",
    "\n",
    "timeline_df = pd.DataFrame(timeline_data)\n",
    "\n",
    "# Create Gantt chart\n",
    "fig = px.timeline(timeline_df, x_start=\"Start\", x_end=\"Finish\", y=\"Ticket\", \n",
    "                 color=\"Resource\", hover_data=[\"Priority\"],\n",
    "                 title=\"Ticket Timeline: Response and Resolution\")\n",
    "\n",
    "fig.update_layout(height=600)\n",
    "fig.show()"
   ]
  },
  {
   "cell_type": "markdown",
   "metadata": {},
   "source": [
    "## Agent Performance Analysis"
   ]
  },
  {
   "cell_type": "code",
   "execution_count": null,
   "metadata": {},
   "outputs": [],
   "source": [
    "# Agent workload and performance\n",
    "agent_stats = df.groupby('agent_name').agg({\n",
    "    'id': 'count',\n",
    "    'response_time_hours': 'mean',\n",
    "    'resolution_time_hours': 'mean',\n",
    "    'survey_score': 'mean',\n",
    "    'priority': lambda x: (x == 'Critical').sum() + (x == 'High').sum()\n",
    "}).round(2)\n",
    "\n",
    "agent_stats.columns = ['Total_Tickets', 'Avg_Response_Time', 'Avg_Resolution_Time', 'Avg_Survey_Score', 'High_Priority_Tickets']\n",
    "agent_stats = agent_stats.reset_index()\n",
    "\n",
    "# Agent performance bubble chart\n",
    "fig = px.scatter(agent_stats, \n",
    "                x='Avg_Response_Time', y='Avg_Resolution_Time',\n",
    "                size='Total_Tickets', color='Avg_Survey_Score',\n",
    "                hover_name='agent_name',\n",
    "                hover_data=['High_Priority_Tickets'],\n",
    "                title='Agent Performance: Response vs Resolution Time',\n",
    "                labels={'Avg_Response_Time': 'Average Response Time (Hours)',\n",
    "                       'Avg_Resolution_Time': 'Average Resolution Time (Hours)'},\n",
    "                color_continuous_scale='RdYlGn')\n",
    "\n",
    "fig.update_layout(height=600)\n",
    "fig.show()"
   ]
  },
  {
   "cell_type": "markdown",
   "metadata": {},
   "source": [
    "## Interactive Filtering with Widgets"
   ]
  },
  {
   "cell_type": "code",
   "execution_count": null,
   "metadata": {},
   "outputs": [],
   "source": [
    "# Interactive filtering function\n",
    "def analyze_tickets(status_filter='All', priority_filter='All', location_filter='All'):\n",
    "    # Filter data based on selections\n",
    "    filtered_df = df.copy()\n",
    "    \n",
    "    if status_filter != 'All':\n",
    "        filtered_df = filtered_df[filtered_df['status'] == status_filter]\n",
    "    \n",
    "    if priority_filter != 'All':\n",
    "        filtered_df = filtered_df[filtered_df['priority'] == priority_filter]\n",
    "    \n",
    "    if location_filter != 'All':\n",
    "        filtered_df = filtered_df[filtered_df['location'] == location_filter]\n",
    "    \n",
    "    # Create summary statistics\n",
    "    print(f\"Filtered Results: {len(filtered_df)} tickets\")\n",
    "    print(f\"Average Response Time: {filtered_df['response_time_hours'].mean():.2f} hours\")\n",
    "    print(f\"Average Survey Score: {filtered_df['survey_score'].mean():.2f}\")\n",
    "    \n",
    "    # Create visualization\n",
    "    if len(filtered_df) > 0:\n",
    "        fig = px.histogram(filtered_df, x='item_category', \n",
    "                          title=f'Ticket Categories ({status_filter}, {priority_filter}, {location_filter})',\n",
    "                          labels={'item_category': 'Category', 'count': 'Number of Tickets'})\n",
    "        fig.update_layout(height=400)\n",
    "        fig.show()\n",
    "    else:\n",
    "        print(\"No tickets match the selected filters.\")\n",
    "\n",
    "# Create interactive widgets\n",
    "status_options = ['All'] + list(df['status'].unique())\n",
    "priority_options = ['All'] + list(df['priority'].unique())\n",
    "location_options = ['All'] + list(df['location'].unique())\n",
    "\n",
    "interact(analyze_tickets,\n",
    "         status_filter=Dropdown(options=status_options, value='All', description='Status:'),\n",
    "         priority_filter=Dropdown(options=priority_options, value='All', description='Priority:'),\n",
    "         location_filter=Dropdown(options=location_options, value='All', description='Location:'))"
   ]
  },
  {
   "cell_type": "markdown",
   "metadata": {},
   "source": [
    "## Altair Statistical Visualizations"
   ]
  },
  {
   "cell_type": "code",
   "execution_count": null,
   "metadata": {},
   "outputs": [],
   "source": [
    "# Enable Altair to render in JupyterLite\n",
    "alt.data_transformers.enable('json')\n",
    "\n",
    "# Create correlation heatmap using Altair\n",
    "numeric_cols = ['response_time_hours', 'resolution_time_hours', 'survey_score', \n",
    "                'public_notes_count', 'agent_reply_count', 'customer_reply_count']\n",
    "\n",
    "# Prepare data for correlation matrix\n",
    "corr_data = df[numeric_cols].corr().reset_index().melt('index')\n",
    "corr_data.columns = ['var1', 'var2', 'correlation']\n",
    "\n",
    "heatmap = alt.Chart(corr_data).mark_rect().encode(\n",
    "    x=alt.X('var1:N', title=''),\n",
    "    y=alt.Y('var2:N', title=''),\n",
    "    color=alt.Color('correlation:Q', scale=alt.Scale(scheme='redblue', domain=[-1, 1])),\n",
    "    tooltip=['var1', 'var2', 'correlation']\n",
    ").properties(\n",
    "    title='Correlation Matrix of Ticket Metrics',\n",
    "    width=400,\n",
    "    height=400\n",
    ")\n",
    "\n",
    "heatmap"
   ]
  },
  {
   "cell_type": "code",
   "execution_count": null,
   "metadata": {},
   "outputs": [],
   "source": [
    "# Interactive scatter plot with brushing\n",
    "brush = alt.selection(type='interval')\n",
    "\n",
    "points = alt.Chart(df.dropna(subset=['response_time_hours', 'survey_score'])).mark_circle(size=60).encode(\n",
    "    x=alt.X('response_time_hours:Q', title='Response Time (Hours)'),\n",
    "    y=alt.Y('survey_score:Q', title='Survey Score'),\n",
    "    color=alt.condition(brush, alt.Color('priority:N'), alt.value('lightgray')),\n",
    "    tooltip=['id', 'subject', 'priority', 'status', 'agent_name']\n",
    ").add_selection(\n",
    "    brush\n",
    ").properties(\n",
    "    title='Response Time vs Survey Score (Brush to Filter)',\n",
    "    width=500,\n",
    "    height=400\n",
    ")\n",
    "\n",
    "# Bar chart showing priority distribution of selected points\n",
    "bars = alt.Chart(df).mark_bar().encode(\n",
    "    x=alt.X('count()', title='Count'),\n",
    "    y=alt.Y('priority:N', title='Priority'),\n",
    "    color='priority:N'\n",
    ").transform_filter(\n",
    "    brush\n",
    ").properties(\n",
    "    title='Priority Distribution of Selected Tickets',\n",
    "    width=300,\n",
    "    height=400\n",
    ")\n",
    "\n",
    "points | bars"
   ]
  },
  {
   "cell_type": "markdown",
   "metadata": {},
   "source": [
    "## Summary Statistics Table"
   ]
  },
  {
   "cell_type": "code",
   "execution_count": null,
   "metadata": {},
   "outputs": [],
   "source": [
    "# Create comprehensive summary table\n",
    "summary_stats = []\n",
    "\n",
    "for priority in df['priority'].unique():\n",
    "    priority_data = df[df['priority'] == priority]\n",
    "    \n",
    "    stats = {\n",
    "        'Priority': priority,\n",
    "        'Total Tickets': len(priority_data),\n",
    "        'Avg Response Time (hrs)': priority_data['response_time_hours'].mean(),\n",
    "        'Avg Resolution Time (hrs)': priority_data['resolution_time_hours'].mean(),\n",
    "        'Avg Survey Score': priority_data['survey_score'].mean(),\n",
    "        'Resolved %': (priority_data['status'] == 'Resolved').mean() * 100,\n",
    "        'Escalated %': (priority_data['resolution_escalated'] == 'Yes').mean() * 100\n",
    "    }\n",
    "    summary_stats.append(stats)\n",
    "\n",
    "summary_df = pd.DataFrame(summary_stats).round(2)\n",
    "\n",
    "# Create interactive table with Plotly\n",
    "fig = go.Figure(data=[go.Table(\n",
    "    header=dict(values=list(summary_df.columns),\n",
    "                fill_color='paleturquoise',\n",
    "                align='left',\n",
    "                font_size=12),\n",
    "    cells=dict(values=[summary_df[col] for col in summary_df.columns],\n",
    "               fill_color='lavender',\n",
    "               align='left',\n",
    "               font_size=11))\n",
    "])\n",
    "\n",
    "fig.update_layout(\n",
    "    title='Summary Statistics by Priority Level',\n",
    "    height=300\n",
    ")\n",
    "\n",
    "fig.show()"
   ]
  },
  {
   "cell_type": "markdown",
   "metadata": {},
   "source": [
    "## Key Insights\n",
    "\n",
    "Based on the analysis above, here are some key insights from the ticket data:\n",
    "\n",
    "1. **Response Time Performance**: Critical and high-priority tickets generally receive faster response times\n",
    "2. **Resolution Patterns**: Different categories of tickets show varying resolution times\n",
    "3. **Agent Performance**: Survey scores correlate with response and resolution times\n",
    "4. **Location Distribution**: Ticket volume varies significantly across office locations\n",
    "5. **Escalation Trends**: Higher priority tickets are more likely to be escalated\n",
    "\n",
    "This interactive analysis provides a foundation for:\n",
    "- Performance monitoring and KPI tracking\n",
    "- Resource allocation decisions\n",
    "- Process improvement initiatives\n",
    "- Agent training and development programs"
   ]
  }
 ],
 "metadata": {
  "kernelspec": {
   "display_name": "Python 3 (ipykernel)",
   "language": "python",
   "name": "python3"
  },
  "language_info": {
   "codemirror_mode": {
    "name": "ipython",
    "version": 3
   },
   "file_extension": ".py",
   "mimetype": "text/x-python",
   "name": "python",
   "nbconvert_exporter": "python",
   "pygments_lexer": "ipython3",
   "version": "3.11.0"
  }
 },
 "nbformat": 4,
 "nbformat_minor": 4
}
